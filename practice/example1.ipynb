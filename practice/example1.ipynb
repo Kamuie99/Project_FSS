{
 "cells": [
  {
   "cell_type": "markdown",
   "id": "07d002e8",
   "metadata": {},
   "source": [
    "# 예제1. Openweather API 를 활용하여 특정 지역의 \"현재 날씨\"에 대한 정보를 출력하세요.\n",
    "- 서울의 위도:37.56, 경도:126.97"
   ]
  },
  {
   "cell_type": "code",
   "execution_count": 1,
   "id": "858b200c",
   "metadata": {},
   "outputs": [],
   "source": [
    "import pprint\n",
    "import requests\n",
    "\n",
    "def get_seoul_weather():\n",
    "    # OpenWeatherMap API 키\n",
    "    api_key = '87246d75e1ce26e1392a087b3d1d88c5'\n",
    "\n",
    "    # 서울의 위도\n",
    "    lat = 37.56\n",
    "    # 서울의 경도\n",
    "    lon = 126.97\n",
    "\n",
    "    # API 요청 URL\n",
    "    url = f'https://api.openweathermap.org/data/2.5/weather?lat={lat}&lon={lon}&appid={api_key}'\n",
    "\n",
    "    # API 요청 보내기\n",
    "    response = requests.get(url).json()\n",
    "    return response"
   ]
  },
  {
   "cell_type": "markdown",
   "id": "8412b01d",
   "metadata": {},
   "source": [
    "- json 형태의 데이터 반환"
   ]
  },
  {
   "cell_type": "code",
   "execution_count": 5,
   "id": "9f09d0a1",
   "metadata": {},
   "outputs": [
    {
     "data": {
      "text/plain": [
       "{'coord': {'lon': 126.9747, 'lat': 37.5565},\n",
       " 'weather': [{'id': 803,\n",
       "   'main': 'Clouds',\n",
       "   'description': 'broken clouds',\n",
       "   'icon': '04d'}],\n",
       " 'base': 'stations',\n",
       " 'main': {'temp': 296.6,\n",
       "  'feels_like': 296.75,\n",
       "  'temp_min': 295.85,\n",
       "  'temp_max': 297.82,\n",
       "  'pressure': 1009,\n",
       "  'humidity': 67},\n",
       " 'visibility': 6000,\n",
       " 'wind': {'speed': 1.54, 'deg': 310},\n",
       " 'clouds': {'all': 75},\n",
       " 'dt': 1686792783,\n",
       " 'sys': {'type': 1,\n",
       "  'id': 8105,\n",
       "  'country': 'KR',\n",
       "  'sunrise': 1686773422,\n",
       "  'sunset': 1686826476},\n",
       " 'timezone': 32400,\n",
       " 'id': 1835848,\n",
       " 'name': 'Seoul',\n",
       " 'cod': 200}"
      ]
     },
     "execution_count": 5,
     "metadata": {},
     "output_type": "execute_result"
    }
   ],
   "source": [
    "result = get_seoul_weather()\n",
    "result"
   ]
  },
  {
   "cell_type": "markdown",
   "id": "437c2eb9",
   "metadata": {},
   "source": [
    "---\n",
    "- `prrint.prrint()`: json 을 보기 좋은 형식으로 출력"
   ]
  },
  {
   "cell_type": "code",
   "execution_count": 6,
   "id": "9d693cbc",
   "metadata": {},
   "outputs": [
    {
     "name": "stdout",
     "output_type": "stream",
     "text": [
      "{'base': 'stations',\n",
      " 'clouds': {'all': 75},\n",
      " 'cod': 200,\n",
      " 'coord': {'lat': 37.5565, 'lon': 126.9747},\n",
      " 'dt': 1686792783,\n",
      " 'id': 1835848,\n",
      " 'main': {'feels_like': 296.75,\n",
      "          'humidity': 67,\n",
      "          'pressure': 1009,\n",
      "          'temp': 296.6,\n",
      "          'temp_max': 297.82,\n",
      "          'temp_min': 295.85},\n",
      " 'name': 'Seoul',\n",
      " 'sys': {'country': 'KR',\n",
      "         'id': 8105,\n",
      "         'sunrise': 1686773422,\n",
      "         'sunset': 1686826476,\n",
      "         'type': 1},\n",
      " 'timezone': 32400,\n",
      " 'visibility': 6000,\n",
      " 'weather': [{'description': 'broken clouds',\n",
      "              'icon': '04d',\n",
      "              'id': 803,\n",
      "              'main': 'Clouds'}],\n",
      " 'wind': {'deg': 310, 'speed': 1.54}}\n"
     ]
    }
   ],
   "source": [
    "pprint.pprint(result)"
   ]
  },
  {
   "cell_type": "code",
   "execution_count": null,
   "id": "91612dd8",
   "metadata": {},
   "outputs": [],
   "source": []
  }
 ],
 "metadata": {
  "kernelspec": {
   "display_name": "Python 3 (ipykernel)",
   "language": "python",
   "name": "python3"
  },
  "language_info": {
   "codemirror_mode": {
    "name": "ipython",
    "version": 3
   },
   "file_extension": ".py",
   "mimetype": "text/x-python",
   "name": "python",
   "nbconvert_exporter": "python",
   "pygments_lexer": "ipython3",
   "version": "3.9.17"
  }
 },
 "nbformat": 4,
 "nbformat_minor": 5
}
