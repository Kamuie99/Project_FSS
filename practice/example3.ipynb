{
 "cells": [
  {
   "cell_type": "markdown",
   "id": "78df3810",
   "metadata": {},
   "source": [
    "# 예제3. 서울의 \"온도\"만 출력하시오."
   ]
  },
  {
   "cell_type": "code",
   "execution_count": 1,
   "id": "610c0e61",
   "metadata": {},
   "outputs": [],
   "source": [
    "import pprint\n",
    "import requests\n",
    "\n",
    "\n",
    "def get_seoul_weather():\n",
    "    # OpenWeatherMap API 키\n",
    "    api_key = '87246d75e1ce26e1392a087b3d1d88c5'\n",
    "\n",
    "    # 검색 조건\n",
    "    city = \"Seoul,KR\"\n",
    "\n",
    "    # API 요청 URL\n",
    "    url = f'http://api.openweathermap.org/data/2.5/weather?q={city}&appid={api_key}'\n",
    "\n",
    "    # API 요청 보내기\n",
    "    response = requests.get(url).json()\n",
    "    \n",
    "    return response\n",
    "\n",
    "\n"
   ]
  },
  {
   "cell_type": "markdown",
   "id": "8412b01d",
   "metadata": {},
   "source": [
    "- json 형태의 데이터 반환"
   ]
  },
  {
   "cell_type": "code",
   "execution_count": 2,
   "id": "f1db985a",
   "metadata": {},
   "outputs": [
    {
     "data": {
      "text/plain": [
       "{'coord': {'lon': 126.9778, 'lat': 37.5683},\n",
       " 'weather': [{'id': 803,\n",
       "   'main': 'Clouds',\n",
       "   'description': 'broken clouds',\n",
       "   'icon': '04d'}],\n",
       " 'base': 'stations',\n",
       " 'main': {'temp': 296.45,\n",
       "  'feels_like': 296.59,\n",
       "  'temp_min': 295.84,\n",
       "  'temp_max': 296.93,\n",
       "  'pressure': 1009,\n",
       "  'humidity': 67},\n",
       " 'visibility': 6000,\n",
       " 'wind': {'speed': 1.54, 'deg': 310},\n",
       " 'clouds': {'all': 75},\n",
       " 'dt': 1686792699,\n",
       " 'sys': {'type': 1,\n",
       "  'id': 8105,\n",
       "  'country': 'KR',\n",
       "  'sunrise': 1686773419,\n",
       "  'sunset': 1686826478},\n",
       " 'timezone': 32400,\n",
       " 'id': 1835848,\n",
       " 'name': 'Seoul',\n",
       " 'cod': 200}"
      ]
     },
     "execution_count": 2,
     "metadata": {},
     "output_type": "execute_result"
    }
   ],
   "source": [
    "response = get_seoul_weather()\n",
    "response"
   ]
  },
  {
   "cell_type": "code",
   "execution_count": 4,
   "id": "25d8e91e",
   "metadata": {},
   "outputs": [
    {
     "name": "stdout",
     "output_type": "stream",
     "text": [
      "캘빈 온도: 296.45K\n"
     ]
    }
   ],
   "source": [
    "# 캘빈 온도 출력\n",
    "temperature = response['main']['temp']\n",
    "print(f\"캘빈 온도: {temperature}K\")"
   ]
  },
  {
   "cell_type": "code",
   "execution_count": 5,
   "id": "ef004b3e",
   "metadata": {},
   "outputs": [
    {
     "name": "stdout",
     "output_type": "stream",
     "text": [
      "섭씨 온도: 23.30˚C\n"
     ]
    }
   ],
   "source": [
    "# 섭씨 온도는 캘빈 - 273.15\n",
    "temperature_celsius = temperature - 273.15\n",
    "print(f\"섭씨 온도: {temperature_celsius:.2f}˚C\")"
   ]
  },
  {
   "cell_type": "code",
   "execution_count": null,
   "id": "6e93c1e4",
   "metadata": {},
   "outputs": [],
   "source": []
  }
 ],
 "metadata": {
  "kernelspec": {
   "display_name": "Python 3 (ipykernel)",
   "language": "python",
   "name": "python3"
  },
  "language_info": {
   "codemirror_mode": {
    "name": "ipython",
    "version": 3
   },
   "file_extension": ".py",
   "mimetype": "text/x-python",
   "name": "python",
   "nbconvert_exporter": "python",
   "pygments_lexer": "ipython3",
   "version": "3.9.17"
  }
 },
 "nbformat": 4,
 "nbformat_minor": 5
}
