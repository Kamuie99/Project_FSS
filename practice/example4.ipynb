{
 "cells": [
  {
   "cell_type": "markdown",
   "id": "d740c633",
   "metadata": {},
   "source": [
    "# 예제4. 서울의 현재 날씨 중 날씨에 대한 설명 정보만 출력하시오."
   ]
  },
  {
   "cell_type": "code",
   "execution_count": 1,
   "id": "5297fc36",
   "metadata": {},
   "outputs": [],
   "source": [
    "import pprint\n",
    "import requests\n",
    "\n",
    "def get_seoul_weather():\n",
    "    # OpenWeatherMap API 키\n",
    "    api_key = '87246d75e1ce26e1392a087b3d1d88c5'\n",
    "\n",
    "    # 검색 조건\n",
    "    city = \"Seoul,KR\"\n",
    "\n",
    "    # API 요청 URL\n",
    "    url = f'http://api.openweathermap.org/data/2.5/weather?q={city}&appid={api_key}'\n",
    "\n",
    "    # API 요청 보내기\n",
    "    response = requests.get(url).json()\n",
    "    return response"
   ]
  },
  {
   "cell_type": "markdown",
   "id": "8412b01d",
   "metadata": {},
   "source": [
    "- json 형태의 데이터 반환"
   ]
  },
  {
   "cell_type": "code",
   "execution_count": 4,
   "id": "b8248eda",
   "metadata": {},
   "outputs": [
    {
     "data": {
      "text/plain": [
       "{'coord': {'lon': 126.9778, 'lat': 37.5683},\n",
       " 'weather': [{'id': 803,\n",
       "   'main': 'Clouds',\n",
       "   'description': 'broken clouds',\n",
       "   'icon': '04d'}],\n",
       " 'base': 'stations',\n",
       " 'main': {'temp': 296.45,\n",
       "  'feels_like': 296.59,\n",
       "  'temp_min': 295.84,\n",
       "  'temp_max': 296.93,\n",
       "  'pressure': 1009,\n",
       "  'humidity': 67},\n",
       " 'visibility': 6000,\n",
       " 'wind': {'speed': 1.54, 'deg': 310},\n",
       " 'clouds': {'all': 75},\n",
       " 'dt': 1686792699,\n",
       " 'sys': {'type': 1,\n",
       "  'id': 8105,\n",
       "  'country': 'KR',\n",
       "  'sunrise': 1686773419,\n",
       "  'sunset': 1686826478},\n",
       " 'timezone': 32400,\n",
       " 'id': 1835848,\n",
       " 'name': 'Seoul',\n",
       " 'cod': 200}"
      ]
     },
     "execution_count": 4,
     "metadata": {},
     "output_type": "execute_result"
    }
   ],
   "source": [
    "response = get_seoul_weather()\n",
    "response"
   ]
  },
  {
   "cell_type": "code",
   "execution_count": 6,
   "id": "6041f51e",
   "metadata": {},
   "outputs": [
    {
     "name": "stdout",
     "output_type": "stream",
     "text": [
      "날씨 설명: broken clouds\n"
     ]
    }
   ],
   "source": [
    "description = response['weather'][0]['description']\n",
    "print(f'날씨 설명: {description}')"
   ]
  },
  {
   "cell_type": "code",
   "execution_count": null,
   "id": "a9a17406",
   "metadata": {},
   "outputs": [],
   "source": []
  }
 ],
 "metadata": {
  "kernelspec": {
   "display_name": "Python 3 (ipykernel)",
   "language": "python",
   "name": "python3"
  },
  "language_info": {
   "codemirror_mode": {
    "name": "ipython",
    "version": 3
   },
   "file_extension": ".py",
   "mimetype": "text/x-python",
   "name": "python",
   "nbconvert_exporter": "python",
   "pygments_lexer": "ipython3",
   "version": "3.9.17"
  }
 },
 "nbformat": 4,
 "nbformat_minor": 5
}
